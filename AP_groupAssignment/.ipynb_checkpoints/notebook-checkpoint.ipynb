{
 "cells": [
  {
   "cell_type": "code",
   "execution_count": 4,
   "metadata": {
    "ExecuteTime": {
     "end_time": "2023-06-01T11:26:57.850445Z",
     "start_time": "2023-06-01T11:26:57.669890Z"
    }
   },
   "outputs": [
    {
     "data": {
      "text/html": [
       "<div>\n",
       "<style scoped>\n",
       "    .dataframe tbody tr th:only-of-type {\n",
       "        vertical-align: middle;\n",
       "    }\n",
       "\n",
       "    .dataframe tbody tr th {\n",
       "        vertical-align: top;\n",
       "    }\n",
       "\n",
       "    .dataframe thead th {\n",
       "        text-align: right;\n",
       "    }\n",
       "</style>\n",
       "<table border=\"1\" class=\"dataframe\">\n",
       "  <thead>\n",
       "    <tr style=\"text-align: right;\">\n",
       "      <th></th>\n",
       "      <th>smiles</th>\n",
       "      <th>ALDH1_inhibition</th>\n",
       "      <th>ROMol</th>\n",
       "    </tr>\n",
       "  </thead>\n",
       "  <tbody>\n",
       "    <tr>\n",
       "      <th>0</th>\n",
       "      <td>COc1ccccc1CC(NC(C)=O)C(=O)NC1CCN(c2nnnn2-c2ccc...</td>\n",
       "      <td>1</td>\n",
       "      <td><img data-content=\"rdkit/molecule\" src=\"data:image/png;base64,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\" alt=\"Mol\"/></td>\n",
       "    </tr>\n",
       "  </tbody>\n",
       "</table>\n",
       "</div>"
      ],
      "text/plain": [
       "                                              smiles  ALDH1_inhibition  \\\n",
       "0  COc1ccccc1CC(NC(C)=O)C(=O)NC1CCN(c2nnnn2-c2ccc...                 1   \n",
       "\n",
       "                                               ROMol  \n",
       "0  <img data-content=\"rdkit/molecule\" src=\"data:i...  "
      ]
     },
     "execution_count": 4,
     "metadata": {},
     "output_type": "execute_result"
    }
   ],
   "source": [
    "import rdkit\n",
    "from rdkit import Chem\n",
    "from rdkit.Chem import AllChem\n",
    "\n",
    "from rdkit.Chem import Draw\n",
    "from rdkit.Chem.Draw import IPythonConsole\n",
    "\n",
    "import pandas as pd\n",
    "from rdkit.Chem import PandasTools\n",
    "\n",
    "import csv\n",
    "\n",
    "\n",
    "filepath = 'tested_molecules-1.csv'\n",
    "\n",
    "esol_data = pd.read_csv(filepath)\n",
    "\n",
    "PandasTools.AddMoleculeColumnToFrame(esol_data, smilesCol='smiles')\n",
    "esol_data.head(1)\n",
    "\n",
    "\n"
   ]
  }
 ],
 "metadata": {
  "kernelspec": {
   "display_name": "Python 3 (ipykernel)",
   "language": "python",
   "name": "python3"
  },
  "language_info": {
   "codemirror_mode": {
    "name": "ipython",
    "version": 3
   },
   "file_extension": ".py",
   "mimetype": "text/x-python",
   "name": "python",
   "nbconvert_exporter": "python",
   "pygments_lexer": "ipython3",
   "version": "3.7.16"
  }
 },
 "nbformat": 4,
 "nbformat_minor": 1
}
